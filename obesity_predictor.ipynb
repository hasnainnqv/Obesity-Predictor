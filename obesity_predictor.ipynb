{
  "nbformat": 4,
  "nbformat_minor": 0,
  "metadata": {
    "colab": {
      "provenance": []
    },
    "kernelspec": {
      "name": "python3",
      "display_name": "Python 3"
    },
    "language_info": {
      "name": "python"
    }
  },
  "cells": [
    {
      "cell_type": "markdown",
      "source": [
        "# **Data Collection:**\n",
        "\n",
        "\n"
      ],
      "metadata": {
        "id": "OwU4vnDJVKqh"
      }
    },
    {
      "cell_type": "markdown",
      "source": [
        "\n",
        "# **Data Preprocessing:**"
      ],
      "metadata": {
        "id": "egwiDbGJVK0r"
      }
    },
    {
      "cell_type": "markdown",
      "source": [
        "# **Exploratory Data Analysis (EDA):**\n"
      ],
      "metadata": {
        "id": "Ai8MxULlVK9S"
      }
    },
    {
      "cell_type": "markdown",
      "source": [
        "# **Feature Engineering:**"
      ],
      "metadata": {
        "id": "xRyIoU5eVLR9"
      }
    },
    {
      "cell_type": "markdown",
      "source": [
        "# **Model Building:**\n",
        "\n",
        "\n"
      ],
      "metadata": {
        "id": "PbtffchiV_1v"
      }
    },
    {
      "cell_type": "markdown",
      "source": [
        "## KNN CLASSIFIER"
      ],
      "metadata": {
        "id": "JlzemrnYXTgb"
      }
    },
    {
      "cell_type": "markdown",
      "source": [
        "## DECISION TREE CLASSIFIER"
      ],
      "metadata": {
        "id": "ARgiRgY_XcQY"
      }
    },
    {
      "cell_type": "markdown",
      "source": [
        "## SUPPORT VECTOR MACHINE"
      ],
      "metadata": {
        "id": "x2SdaAADXcCY"
      }
    },
    {
      "cell_type": "markdown",
      "source": [
        "## LOGISTRIC REGRESSION"
      ],
      "metadata": {
        "id": "0xfB7BPWXb3u"
      }
    },
    {
      "cell_type": "markdown",
      "source": [
        "\n",
        "# **Model Evaluation:**\n",
        "\n"
      ],
      "metadata": {
        "id": "B6_rPCt1WHTB"
      }
    }
  ]
}